{
 "cells": [
  {
   "cell_type": "code",
   "execution_count": 3,
   "id": "0f2e55ee-aa6c-4d4f-a6ad-dce0dcf8b586",
   "metadata": {},
   "outputs": [
    {
     "name": "stdout",
     "output_type": "stream",
     "text": [
      "150 go out\n"
     ]
    }
   ],
   "source": [
    "a=100\n",
    "b=50\n",
    "print(a+b,\"go out\")"
   ]
  },
  {
   "cell_type": "code",
   "execution_count": 4,
   "id": "22e322b0-d28e-4970-a281-9ab80ca521b9",
   "metadata": {},
   "outputs": [
    {
     "name": "stdout",
     "output_type": "stream",
     "text": [
      "this is NO.0 0 this is NO.1 1 this is NO.2 2 this is NO.3 3 this is NO.4 4 this is NO.5 5 this is NO.6 6 this is NO.7 7 this is NO.8 8 this is NO.9 9 "
     ]
    }
   ],
   "source": [
    "for i in range(10):\n",
    "    print(f\"this is NO.{i}\",i,end=\" \")"
   ]
  },
  {
   "cell_type": "raw",
   "id": "f5fa5096-95a1-448f-b9f7-f5685788e806",
   "metadata": {},
   "source": [
    "raw这个不会执行"
   ]
  },
  {
   "cell_type": "code",
   "execution_count": 5,
   "id": "274c3f8a-a78d-4fd8-9689-c0bd08175733",
   "metadata": {},
   "outputs": [
    {
     "name": "stdout",
     "output_type": "stream",
     "text": [
      "100    50    gundan\n"
     ]
    }
   ],
   "source": [
    "print(a,b,'gundan',sep=\"    \")"
   ]
  },
  {
   "cell_type": "markdown",
   "id": "eb8efb2b-6002-438a-947a-731733e1d61b",
   "metadata": {},
   "source": [
    "### 滚蛋"
   ]
  },
  {
   "cell_type": "code",
   "execution_count": null,
   "id": "d55b1a44-2431-4e80-8d10-adc98d2dce80",
   "metadata": {},
   "outputs": [],
   "source": [
    "print()"
   ]
  }
 ],
 "metadata": {
  "kernelspec": {
   "display_name": "Python 3 (ipykernel)",
   "language": "python",
   "name": "python3"
  },
  "language_info": {
   "codemirror_mode": {
    "name": "ipython",
    "version": 3
   },
   "file_extension": ".py",
   "mimetype": "text/x-python",
   "name": "python",
   "nbconvert_exporter": "python",
   "pygments_lexer": "ipython3",
   "version": "3.12.4"
  }
 },
 "nbformat": 4,
 "nbformat_minor": 5
}
